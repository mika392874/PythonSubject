{
 "cells": [
  {
   "cell_type": "code",
   "execution_count": 1,
   "metadata": {},
   "outputs": [
    {
     "name": "stdout",
     "output_type": "stream",
     "text": [
      "終極密碼介於1~100:\n",
      ">>>\tOK\n",
      "格式錯誤，請重新輸入\n",
      "====================\n",
      "終極密碼介於1~100:\n",
      ">>>\t50\n",
      "====================\n",
      "終極密碼介於50~100:\n",
      ">>>\t28\n",
      "**請猜介於50~100的整數\n",
      "====================\n",
      "終極密碼介於50~100:\n",
      ">>>\t75\n",
      "====================\n",
      "終極密碼介於75~100:\n",
      ">>>\t85\n",
      "====================\n",
      "終極密碼介於85~100:\n",
      ">>>\t93\n",
      "恭喜猜中了！\n"
     ]
    }
   ],
   "source": [
    "from random import randint\n",
    "\n",
    "#規定範圍並產生終極密碼\n",
    "lowest = 1\n",
    "highest = 100\n",
    "answer = randint(lowest,highest)\n",
    "\n",
    "\n",
    "while True:\n",
    "    guess = input('終極密碼介於'+str(lowest)+'~'+str(highest)+':\\n>>>\\t')\n",
    "    \n",
    "    #檢查輸入內容是否符合格式\n",
    "    try:\n",
    "        guess = int(guess) #把字串轉換為整數\n",
    "    except ValueError:     #轉換失敗便要求重新輸入數字\n",
    "        print('格式錯誤，請重新輸入')\n",
    "        print('='*20)\n",
    "        continue\n",
    "    \n",
    "    #檢查輸入的數字是否介於規定範圍內\n",
    "    if guess <= lowest or guess >= highest:\n",
    "        print('**請猜介於'+str(lowest)+'~'+str(highest)+'的整數')\n",
    "        print('='*20)\n",
    "        continue\n",
    "    \n",
    "    #最後判斷是否猜中終極密碼\n",
    "    if  guess == answer:\n",
    "        print('恭喜猜中了！')\n",
    "        break   #猜對了才跳出loop\n",
    "    elif guess < answer :\n",
    "        lowest = guess\n",
    "    else:\n",
    "        highest = guess\n",
    "    print('='*20)"
   ]
  }
 ],
 "metadata": {
  "kernelspec": {
   "display_name": "Python 3",
   "language": "python",
   "name": "python3"
  },
  "language_info": {
   "codemirror_mode": {
    "name": "ipython",
    "version": 3
   },
   "file_extension": ".py",
   "mimetype": "text/x-python",
   "name": "python",
   "nbconvert_exporter": "python",
   "pygments_lexer": "ipython3",
   "version": "3.7.4"
  }
 },
 "nbformat": 4,
 "nbformat_minor": 2
}
