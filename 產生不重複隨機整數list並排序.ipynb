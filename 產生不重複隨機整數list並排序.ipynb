{
 "cells": [
  {
   "cell_type": "markdown",
   "metadata": {},
   "source": [
    "## 題目：\n",
    "\n",
    "請設計一程式，可隨機產生N個整數，範圍落在a~b之間，且數字不可重複\n",
    "\n",
    "其中，(N,a,b)三個變數都是由使用者自行輸入，希望達成以下效果：\n",
    "\n",
    "1.列出所設定的條件，如：N=4, a=1, b=10\n",
    "\n",
    "2.列出系統隨機產生的N個整數，如：2,4,1,9\n",
    "\n",
    "3.自動將所產生的N個整數，由小到大進行排序，並印出最後結果，如：所產生的數列排序後結果為1,2,4,9\n",
    "\n"
   ]
  },
  {
   "cell_type": "code",
   "execution_count": 24,
   "metadata": {},
   "outputs": [
    {
     "name": "stdout",
     "output_type": "stream",
     "text": [
      "下限a >> 什麼\n",
      "**錯誤格式，請重新輸入整數\n",
      "==============================\n",
      "下限a >> 6\n",
      "上限b >> 3\n",
      "**錯誤範圍，請重新輸入大於下限a的整數\n",
      "==============================\n",
      "下限a >>6\n",
      "上限b >> OK\n",
      "**錯誤格式，請重新輸入整數\n",
      "==============================\n",
      "下限a >> 6\n",
      "上限b >> 15\n",
      "系統產生數列之個數N >> ten\n",
      "**錯誤格式，請重新輸入整數\n",
      "==============================\n",
      "下限a >> 6\n",
      "上限b >> 15\n",
      "系統產生數列之個數N >> 10\n",
      "---\n",
      "不重複的亂數數列 >> [8, 9, 10, 14, 12, 7, 6, 15, 13, 11]\n",
      "數列排序(由小到大)>> [6, 7, 8, 9, 10, 11, 12, 13, 14, 15]\n",
      "數列排序(由大到小)>> [15, 14, 13, 12, 11, 10, 9, 8, 7, 6]\n"
     ]
    }
   ],
   "source": [
    "import random \n",
    "\n",
    "#---檢查輸入的a值是否符合條件---\n",
    "while True:\n",
    "    a = input('下限a >> ')\n",
    "    try: #嘗試：\n",
    "        a = int(a) #若a為int型態\n",
    "        break      #則停止循環，跳出迴圈\n",
    "    except ValueError: #若不是int型態\n",
    "        print('**錯誤格式，請重新輸入整數')  #則跳出錯誤警告\n",
    "        print('='*30)  #做一條分隔線，視覺上較為清楚\n",
    "        continue #繼續迴圈，回到上面重新input一次a\n",
    "        \n",
    "\n",
    "#---檢查輸入的b值是否符合條件---\n",
    "while True:\n",
    "    b = input('上限b >> ')\n",
    "    try:\n",
    "        b = int(b) #若b為int型態\n",
    "        if b > a:  #若b>a，則停止循環並跳出迴圈\n",
    "            break\n",
    "        else:      #若非前者，則跳出錯誤警告\n",
    "            print('**錯誤範圍，請重新輸入大於下限a的整數')\n",
    "            print('='*30) \n",
    "        print('下限a >>'+str(a))  #再show一次下限a值，視覺上較清楚\n",
    "        continue  #繼續迴圈，回到上面重新input一次b\n",
    "    except ValueError:\n",
    "        print('**錯誤格式，請重新輸入整數')\n",
    "        print('='*30)\n",
    "        print('下限a >> '+str(a))\n",
    "        continue\n",
    "        \n",
    "\n",
    "#---檢查輸入的N是否符合條件---\n",
    "while True:\n",
    "    N = input('系統產生數列之個數N >> ')\n",
    "    try :\n",
    "        N = int(N)\n",
    "        #---檢查輸入的N值是否符合範圍內---\n",
    "        if N >= b or N <= a: \n",
    "            print('**錯誤範圍，請重新輸入在'+str(a)+'~'+str(b)+'之間的整數為個數N')\n",
    "            print('='*30)\n",
    "            print('下限a >> '+str(a))\n",
    "            print('上限b >> '+str(b))\n",
    "        else:\n",
    "            break\n",
    "    except ValueError:\n",
    "        print('**錯誤格式，請重新輸入整數')\n",
    "        print('='*30)\n",
    "        print('下限a >> '+str(a))\n",
    "        print('上限b >> '+str(b))\n",
    "        continue\n",
    "   \n",
    "        \n",
    "print('-'*3)       \n",
    "#---產生不重複的亂數list---\n",
    "li = random.sample(range(a,b+1),N)\n",
    "print('不重複的亂數數列 >> '+str(li))\n",
    "\n",
    "#---由小到大排序---\n",
    "li.sort(reverse=False)\n",
    "print('數列排序(由小到大)>> '+str(li))\n",
    "\n",
    "#---由大到小排序---\n",
    "li.sort(reverse=True)\n",
    "print('數列排序(由大到小)>> '+str(li))\n",
    "        "
   ]
  },
  {
   "cell_type": "code",
   "execution_count": null,
   "metadata": {},
   "outputs": [],
   "source": []
  },
  {
   "cell_type": "code",
   "execution_count": null,
   "metadata": {},
   "outputs": [],
   "source": []
  },
  {
   "cell_type": "code",
   "execution_count": 28,
   "metadata": {},
   "outputs": [
    {
     "name": "stdout",
     "output_type": "stream",
     "text": [
      "[6, 8, 2, 3, 9]\n",
      "[1, 3, 6, 7, 8]\n"
     ]
    }
   ],
   "source": [
    "#參考範例1 (來源：網路資訊)\n",
    "import random\n",
    " \n",
    "#方法1\n",
    "rList=[]    #用於存放結果的List\n",
    "A = 1  #最小隨機數\n",
    "B = 10 #最大隨機數\n",
    "N = 5\n",
    " \n",
    "#生成隨機數的遞迴法，參數counter表示當前準備要生成的第幾個有效隨機數\n",
    "def generateRand(n): \n",
    "    tInt = random.randint(A,B) #生成一個範圍內的臨時隨機數\n",
    "    if n <= N : #先看隨機數的總是是否足夠\n",
    "        if tInt not in rList: #再檢查當前已生成的臨時隨機數是否已存在\n",
    "            rList.append(tInt) #如果不存在，則將其追加到結果List中\n",
    "            n+=1  #然後將表示有效結果的個數+1，請注意這裡!如果臨時隨機數已存在，則此if不成立，會直接執行15行，counter不需+1\n",
    "        generateRand(n)  #不管上面的if是否成立，都要遞迴。如果上面的臨時隨機數有效，則這裡的counter會+1，如果上面的临时随机数已经存在了，则需要重新再生成一次随机数,counter不能变化\n",
    "generateRand(1)#使用遞迴函數，並設定當前欲生成的有效隨機數的index位置為1，因為要從第1個開始\n",
    "print(rList) #結果\n",
    " \n",
    "    \n",
    "#2、利用Python中的random.sample()函數實現\n",
    "rList = random.sample(range(A,B+1),N);  #sample(x,y)函數的作用是從序列x中，隨機選擇y個不重複的元素\n",
    "rList.sort() #排序預設為.sort(reverse=False):由小到大\n",
    "print(rList)"
   ]
  },
  {
   "cell_type": "code",
   "execution_count": 29,
   "metadata": {},
   "outputs": [
    {
     "name": "stdout",
     "output_type": "stream",
     "text": [
      "[41, 75, 88, 5, 50, 30, 62, 2, 60, 61]\n",
      "10\n"
     ]
    }
   ],
   "source": [
    "#參考範例2 (來源：網路資訊)\n",
    "import random\n",
    "all_num = 100\n",
    "a_list = [i for i in range(all_num)]\n",
    "N = 10\n",
    "\n",
    "\n",
    "def make_random():\n",
    "    b_length = 1\n",
    "    b_list = []\n",
    "    while b_length <= N:\n",
    "        random_number = random.randint(1, all_num - 1)\n",
    "        if random_number not in b_list:\n",
    "            b_list.append(random_number)\n",
    "            b_length = len(b_list)+1\n",
    "    return b_list\n",
    "print(make_random())\n",
    "print(len(make_random()))"
   ]
  },
  {
   "cell_type": "code",
   "execution_count": null,
   "metadata": {},
   "outputs": [],
   "source": []
  },
  {
   "cell_type": "code",
   "execution_count": 30,
   "metadata": {},
   "outputs": [
    {
     "name": "stdout",
     "output_type": "stream",
     "text": [
      "Help on method sample in module random:\n",
      "\n",
      "sample(population, k) method of random.Random instance\n",
      "    Chooses k unique random elements from a population sequence or set.\n",
      "    \n",
      "    Returns a new list containing elements from the population while\n",
      "    leaving the original population unchanged.  The resulting list is\n",
      "    in selection order so that all sub-slices will also be valid random\n",
      "    samples.  This allows raffle winners (the sample) to be partitioned\n",
      "    into grand prize and second place winners (the subslices).\n",
      "    \n",
      "    Members of the population need not be hashable or unique.  If the\n",
      "    population contains repeats, then each occurrence is a possible\n",
      "    selection in the sample.\n",
      "    \n",
      "    To choose a sample in a range of integers, use range as an argument.\n",
      "    This is especially fast and space efficient for sampling from a\n",
      "    large population:   sample(range(10000000), 60)\n",
      "\n"
     ]
    }
   ],
   "source": [
    "#查詢語法可用help函數\n",
    "help(random.sample)"
   ]
  }
 ],
 "metadata": {
  "kernelspec": {
   "display_name": "Python 3",
   "language": "python",
   "name": "python3"
  },
  "language_info": {
   "codemirror_mode": {
    "name": "ipython",
    "version": 3
   },
   "file_extension": ".py",
   "mimetype": "text/x-python",
   "name": "python",
   "nbconvert_exporter": "python",
   "pygments_lexer": "ipython3",
   "version": "3.7.4"
  }
 },
 "nbformat": 4,
 "nbformat_minor": 2
}
