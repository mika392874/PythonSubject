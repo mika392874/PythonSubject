{
 "cells": [
  {
   "cell_type": "code",
   "execution_count": 1,
   "metadata": {},
   "outputs": [
    {
     "name": "stdout",
     "output_type": "stream",
     "text": [
      "請出拳(輸入數字)： [0]剪刀、[1]石頭、[2]布6\n",
      "玩家出拳： 6\n",
      "**Error! 請重新輸入0~2其中1個數字\n",
      "\n",
      "===============\n",
      "請出拳(輸入數字)： [0]剪刀、[1]石頭、[2]布1\n",
      "玩家出拳： 1\n",
      "電腦出拳： 0\n",
      ">> 恭喜～你贏了！\n"
     ]
    }
   ],
   "source": [
    "from random import randint\n",
    "\n",
    "while True:\n",
    "    game = int(input('請出拳(輸入數字)： [0]剪刀、[1]石頭、[2]布'))\n",
    "    \n",
    "    #檢查玩家輸入的數字是否符合範圍\n",
    "    if game > 2:\n",
    "        print('玩家出拳：',game)\n",
    "        print('**Error! 請重新輸入0~2其中1個數字\\n')\n",
    "        print('='*15)\n",
    "        continue\n",
    "        \n",
    "    else:       \n",
    "        print('玩家出拳：',game)\n",
    "        \n",
    "        #電腦隨機產生0~2整數\n",
    "        com_game = randint(0,2)\n",
    "        print('電腦出拳：',com_game)\n",
    "        \n",
    "        #判斷玩家輸贏\n",
    "        if game == com_game:\n",
    "            print('>> 平手')\n",
    "        elif game == (com_game+1) % 3: \n",
    "            print('>> 恭喜～你贏了！')\n",
    "        else:\n",
    "            print('>> 哎呀～你輸了！')\n",
    "        break"
   ]
  }
 ],
 "metadata": {
  "kernelspec": {
   "display_name": "Python 3",
   "language": "python",
   "name": "python3"
  },
  "language_info": {
   "codemirror_mode": {
    "name": "ipython",
    "version": 3
   },
   "file_extension": ".py",
   "mimetype": "text/x-python",
   "name": "python",
   "nbconvert_exporter": "python",
   "pygments_lexer": "ipython3",
   "version": "3.7.4"
  }
 },
 "nbformat": 4,
 "nbformat_minor": 2
}
