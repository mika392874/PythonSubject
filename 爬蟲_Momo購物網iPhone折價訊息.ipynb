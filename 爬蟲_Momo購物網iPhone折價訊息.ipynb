{
 "cells": [
  {
   "cell_type": "markdown",
   "metadata": {},
   "source": [
    "### 目的：爬取Momo購物網折價品訊息，以便得知目前下哪個商品最划算。\n",
    "### 流程：首頁 -> 手機 -> iphone -> 折價券熱銷 -> 爬取“折價券熱銷”頁面所有商品 "
   ]
  },
  {
   "cell_type": "code",
   "execution_count": null,
   "metadata": {},
   "outputs": [],
   "source": [
    "import requests\n",
    "headers = {\n",
    "    'user-agent': 'Mozilla/5.0 (Macintosh; Intel Mac OS X 10_14_6) AppleWebKit/537.36 (KHTML, like Gecko) Chrome/80.0.3987.149 Safari/537.36'\n",
    "}\n",
    "\n",
    "req = requests.get('https://www.momoshop.com.tw/category/DgrpCategory.jsp?d_code=1905200036&CPHOT=Y&flag=L',headers = headers)\n",
    "#req #-->此時跳錯：ConnectionError: ('Connection aborted.', ConnectionResetError(54, 'Connection reset by peer'))\n",
    "# -->猜測網站可能有防爬機制，以致無法順利爬取內容\n",
    "# -->只要騙網站說我們是真人，不是爬蟲就好 => 在import下方加上headers,user agent資訊\n",
    "\n",
    "#req.text   #--->顯示網頁原始碼\n"
   ]
  },
  {
   "cell_type": "code",
   "execution_count": null,
   "metadata": {},
   "outputs": [],
   "source": [
    "#把原始碼丟給BeatuifulSoup解析，把解析結果丟給soup，以取得商品資訊\n",
    "from bs4 import BeautifulSoup as bs\n",
    "soup =  bs(req.text,'lxml')\n",
    "#soup\n"
   ]
  },
  {
   "cell_type": "code",
   "execution_count": null,
   "metadata": {},
   "outputs": [],
   "source": [
    "# 爬下所有資料：\n",
    "goods = [] # 先設定一個空白list，用來裝爬出來的結果\n",
    "\n",
    "for good in soup.select('.eachGood'): #從原始碼觀察到商品資訊都放在li標籤、名為\"eachGood\"的class裡\n",
    "#     print(good)\n",
    "    title = good.select_one('.prdName').get('title')\n",
    "    price_r = good.select_one('.prdPrice').text.replace('$','').replace(',','')  #爬下結果立即去除多餘的字元\n",
    "    price = int(price_r)  #放進資料庫前先處理資料型態\n",
    "    icon = good.select_one('.iconArea').text\n",
    "    goods.append({'title':title,'price':price,'icon':icon})\n",
    "#     print('-'*30)  #用分隔線區分商品\n"
   ]
  },
  {
   "cell_type": "code",
   "execution_count": null,
   "metadata": {},
   "outputs": [],
   "source": [
    "# 將結果放進DataFrame\n",
    "import pandas as pd\n",
    "df = pd.DataFrame(goods)\n",
    "df.head(10)"
   ]
  },
  {
   "cell_type": "code",
   "execution_count": null,
   "metadata": {},
   "outputs": [],
   "source": [
    "# 查看每個欄位的資料型態\n",
    "df.dtypes\n"
   ]
  },
  {
   "cell_type": "code",
   "execution_count": null,
   "metadata": {},
   "outputs": [],
   "source": [
    "# 依價格低到高，排序前10筆資料\n",
    "df.head(10).sort_values(by = ['price'],ascending = True)\n"
   ]
  },
  {
   "cell_type": "code",
   "execution_count": null,
   "metadata": {},
   "outputs": [],
   "source": [
    "# 依價格低到高，排序所有爬下的資料\n",
    "df.sort_values(by = ['price'],ascending = True)\n"
   ]
  },
  {
   "cell_type": "code",
   "execution_count": null,
   "metadata": {},
   "outputs": [],
   "source": []
  },
  {
   "cell_type": "code",
   "execution_count": null,
   "metadata": {},
   "outputs": [],
   "source": []
  },
  {
   "cell_type": "code",
   "execution_count": null,
   "metadata": {},
   "outputs": [],
   "source": []
  },
  {
   "cell_type": "markdown",
   "metadata": {},
   "source": [
    "# ===== 其他 ====="
   ]
  },
  {
   "cell_type": "code",
   "execution_count": null,
   "metadata": {},
   "outputs": [],
   "source": [
    "df.info()"
   ]
  },
  {
   "cell_type": "markdown",
   "metadata": {},
   "source": [
    "### *DataFrame.astype(self: ~FrameOrSeries, dtype, copy: bool = True, errors: str = 'raise') → ~FrameOrSeries\n",
    "### ---> https://pandas.pydata.org/pandas-docs/stable/reference/api/pandas.DataFrame.astype.html"
   ]
  },
  {
   "cell_type": "markdown",
   "metadata": {},
   "source": [
    "### *Python DataFrame 欄位型態轉換方法\n",
    "### ---> https://codertw.com/%E7%A8%8B%E5%BC%8F%E8%AA%9E%E8%A8%80/358035/"
   ]
  }
 ],
 "metadata": {
  "kernelspec": {
   "display_name": "Python 3",
   "language": "python",
   "name": "python3"
  },
  "language_info": {
   "codemirror_mode": {
    "name": "ipython",
    "version": 3
   },
   "file_extension": ".py",
   "mimetype": "text/x-python",
   "name": "python",
   "nbconvert_exporter": "python",
   "pygments_lexer": "ipython3",
   "version": "3.8.1"
  }
 },
 "nbformat": 4,
 "nbformat_minor": 4
}
